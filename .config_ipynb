train.py --depth=16 --bs=48 --ep=200 --fp16=1 --alng=1e-3 --wpe=0.1 --data_path=/data/scratch-oc40/fxh/ImageNet --local_debug=True
